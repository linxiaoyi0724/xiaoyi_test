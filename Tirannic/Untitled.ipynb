{
 "cells": [
  {
   "cell_type": "code",
   "execution_count": 1,
   "metadata": {},
   "outputs": [
    {
     "name": "stderr",
     "output_type": "stream",
     "text": [
      "/usr/local/lib/python2.7/dist-packages/pandas/core/generic.py:3295: SettingWithCopyWarning: \n",
      "A value is trying to be set on a copy of a slice from a DataFrame\n",
      "\n",
      "See the caveats in the documentation: http://pandas.pydata.org/pandas-docs/stable/indexing.html#indexing-view-versus-copy\n",
      "  self._update_inplace(new_data)\n"
     ]
    }
   ],
   "source": [
    "import pandas as pd\n",
    "train = pd.read_csv('./train.csv')\n",
    "test = pd.read_csv('./test.csv')\n",
    "\n",
    "selected_features = ['Pclass','Sex','Age','Embarked','SibSp','Parch','Fare']\n",
    "x_train = train[selected_features]\n",
    "x_test = test[selected_features]\n",
    "y_train = train['Survived']\n",
    "#x_train.info()\n",
    "#x_test.info()\n",
    "#print x_train['Embarked'].value_counts()\n",
    "#print x_test['Embarked'].value_counts()\n",
    "x_train['Embarked'].fillna('S',inplace=True)\n",
    "x_test['Embarked'].fillna('S',inplace=True)\n",
    "x_train['Age'].fillna(x_train['Age'].mean(),inplace=True)\n",
    "x_test['Age'].fillna(x_test['Age'].mean(),inplace=True)\n",
    "x_test['Fare'].fillna(x_test['Fare'].mean(),inplace=True)\n",
    "\n",
    "from sklearn.feature_extraction import DictVectorizer\n",
    "dict_vec = DictVectorizer(sparse=False)\n",
    "x_train =dict_vec.fit_transform(x_train.to_dict(orient='record'))\n",
    "dict_vec.feature_names_\n",
    "x_test =dict_vec.transform(x_test.to_dict(orient='record'))"
   ]
  },
  {
   "cell_type": "code",
   "execution_count": 2,
   "metadata": {},
   "outputs": [
    {
     "name": "stderr",
     "output_type": "stream",
     "text": [
      "/usr/local/lib/python2.7/dist-packages/sklearn/cross_validation.py:44: DeprecationWarning: This module was deprecated in version 0.18 in favor of the model_selection module into which all the refactored classes and functions are moved. Also note that the interface of the new CV iterators are different from that of this module. This module will be removed in 0.20.\n",
      "  \"This module will be removed in 0.20.\", DeprecationWarning)\n"
     ]
    },
    {
     "name": "stdout",
     "output_type": "stream",
     "text": [
      "0.81151629538\n",
      "0.818245597983\n"
     ]
    }
   ],
   "source": [
    "from sklearn.ensemble import RandomForestClassifier\n",
    "rfc = RandomForestClassifier()\n",
    "from xgboost import XGBClassifier\n",
    "xgbc = XGBClassifier()\n",
    "\n",
    "from sklearn.cross_validation import cross_val_score\n",
    "print cross_val_score(rfc,x_train,y_train,cv=5).mean()\n",
    "print cross_val_score(xgbc,x_train,y_train,cv=5).mean()"
   ]
  },
  {
   "cell_type": "code",
   "execution_count": 3,
   "metadata": {
    "collapsed": true
   },
   "outputs": [],
   "source": [
    "rfc.fit(x_train,y_train)\n",
    "rfc_y_predict = rfc.predict(x_test)\n",
    "rfc_submission = pd.DataFrame({'PassengerId':test['PassengerId'],'Survived':rfc_y_predict})\n",
    "rfc_submission.to_csv('./rfc_submisson.csv',index=False)"
   ]
  },
  {
   "cell_type": "code",
   "execution_count": 4,
   "metadata": {
    "collapsed": true
   },
   "outputs": [],
   "source": [
    "xgbc.fit(x_train,y_train)\n",
    "xgbc_y_predict = xgbc.predict(x_test)\n",
    "xgbc_submission = pd.DataFrame({'PassengerId':test['PassengerId'],'Survived':xgbc_y_predict})\n",
    "xgbc_submission.to_csv('./xgbc_submission.csv',index=False)"
   ]
  },
  {
   "cell_type": "code",
   "execution_count": null,
   "metadata": {
    "collapsed": true
   },
   "outputs": [],
   "source": []
  }
 ],
 "metadata": {
  "kernelspec": {
   "display_name": "Python 2",
   "language": "python",
   "name": "python2"
  },
  "language_info": {
   "codemirror_mode": {
    "name": "ipython",
    "version": 2
   },
   "file_extension": ".py",
   "mimetype": "text/x-python",
   "name": "python",
   "nbconvert_exporter": "python",
   "pygments_lexer": "ipython2",
   "version": "2.7.12"
  }
 },
 "nbformat": 4,
 "nbformat_minor": 2
}
